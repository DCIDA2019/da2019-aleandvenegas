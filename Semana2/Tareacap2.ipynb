{
 "cells": [
  {
   "cell_type": "code",
   "execution_count": 1,
   "metadata": {},
   "outputs": [],
   "source": [
    "import requests\n",
    "import lxml\n",
    "import os as os\n",
    "import pandas as pd\n",
    "import tabula as tab\n",
    "import numpy as np"
   ]
  },
  {
   "cell_type": "markdown",
   "metadata": {},
   "source": [
    "# The basic of Numpy Arrays"
   ]
  },
  {
   "cell_type": "code",
   "execution_count": 2,
   "metadata": {},
   "outputs": [],
   "source": [
    "file='2019min.pdf'\n",
    "d=tab.read_pdf(file)\n",
    "file='2019max.pdf'\n",
    "D=tab.read_pdf(file)\n"
   ]
  },
  {
   "cell_type": "code",
   "execution_count": 3,
   "metadata": {},
   "outputs": [
    {
     "data": {
      "text/plain": [
       "array([['Aguascalientes', 4.8, 7.1, 8.7, 9.4, 12.6, 15.7, 14.2, nan, nan,\n",
       "        nan, nan, nan, nan],\n",
       "       ['Baja California', 8.0, 6.5, 9.0, 13.2, 14.3, 17.6, 18.5, nan,\n",
       "        nan, nan, nan, nan, nan],\n",
       "       ['Baja California Sur', 12.1, 12.1, 13.0, 15.3, 15.9, 19.9, 23.9,\n",
       "        nan, nan, nan, nan, nan, nan],\n",
       "       ['Campeche', 17.2, 20.0, 20.2, 21.8, 24.5, 24.0, 23.0, nan, nan,\n",
       "        nan, nan, nan, nan],\n",
       "       ['Coahuila', 6.4, 9.6, 12.1, 14.5, 19.8, 21.5, 21.7, nan, nan,\n",
       "        nan, nan, nan, nan],\n",
       "       ['Colima', 18.6, 18.0, 18.3, 17.5, 19.7, 23.5, 23.2, nan, nan,\n",
       "        nan, nan, nan, nan],\n",
       "       ['Chiapas', 16.4, 17.4, 18.2, 19.0, 21.1, 21.0, 20.4, nan, nan,\n",
       "        nan, nan, nan, nan],\n",
       "       ['Chihuahua', 1.8, 4.1, 6.9, 8.7, 12.0, 16.7, 18.3, nan, nan, nan,\n",
       "        nan, nan, nan],\n",
       "       ['Ciudad de México', 8.1, 10.6, 11.4, 12.9, 14.0, 14.2, 13.0, nan,\n",
       "        nan, nan, nan, nan, nan],\n",
       "       ['Durango', 2.6, 5.4, 7.1, 8.3, 10.1, 15.5, 15.3, nan, nan, nan,\n",
       "        nan, nan, nan],\n",
       "       ['Guanajuato', 6.4, 8.0, 10.3, 10.9, 13.9, 15.0, 13.6, nan, nan,\n",
       "        nan, nan, nan, nan],\n",
       "       ['Guerrero', 15.9, 16.7, 18.2, 18.1, 19.2, 20.0, 19.2, nan, nan,\n",
       "        nan, nan, nan, nan],\n",
       "       ['Hidalgo', 7.5, 10.2, 10.8, 12.3, 15.2, 15.4, 14.6, nan, nan,\n",
       "        nan, nan, nan, nan],\n",
       "       ['Jalisco', 7.9, 9.5, 10.9, 11.2, 14.2, 17.6, 16.5, nan, nan, nan,\n",
       "        nan, nan, nan],\n",
       "       ['Estado de México', 3.0, 4.7, 6.2, 7.1, 9.0, 10.6, 9.6, nan, nan,\n",
       "        nan, nan, nan, nan],\n",
       "       ['Michoacán', 8.1, 9.8, 11.3, 11.3, 14.0, 15.7, 14.7, nan, nan,\n",
       "        nan, nan, nan, nan],\n",
       "       ['Morelos', 10.1, 12.6, 15.4, 15.3, 16.8, 17.3, 16.1, nan, nan,\n",
       "        nan, nan, nan, nan],\n",
       "       ['Nayarit', 14.6, 15.2, 14.4, 15.8, 17.8, 22.8, 23.2, nan, nan,\n",
       "        nan, nan, nan, nan],\n",
       "       ['Nuevo León', 6.9, 10.3, 12.7, 14.0, 19.8, 21.2, 20.5, nan, nan,\n",
       "        nan, nan, nan, nan],\n",
       "       ['Oaxaca', 13.9, 16.8, 16.5, 17.4, 18.9, 19.6, 17.8, nan, nan,\n",
       "        nan, nan, nan, nan],\n",
       "       ['Puebla', 6.9, 9.5, 10.4, 11.5, 13.6, 13.7, 12.4, nan, nan, nan,\n",
       "        nan, nan, nan],\n",
       "       ['Querétaro', 8.5, 10.3, 12.0, 13.6, 16.8, 16.5, 14.9, nan, nan,\n",
       "        nan, nan, nan, nan],\n",
       "       ['Quintana Roo', 18.3, 21.5, 21.2, 22.7, 25.3, 25.8, 25.4, nan,\n",
       "        nan, nan, nan, nan, nan],\n",
       "       ['San Luis Potosí', 11.9, 14.2, 15.3, 16.5, 22.1, 21.9, 20.7, nan,\n",
       "        nan, nan, nan, nan, nan],\n",
       "       ['Sinaloa', 11.6, 12.0, 12.8, 14.6, 16.7, 22.3, 24.4, nan, nan,\n",
       "        nan, nan, nan, nan],\n",
       "       ['Sonora', 6.0, 6.2, 9.2, 11.5, 12.9, 19.1, 23.3, nan, nan, nan,\n",
       "        nan, nan, nan],\n",
       "       ['Tabasco', 18.8, 20.7, 20.8, 22.1, 25.1, 24.6, 23.6, nan, nan,\n",
       "        nan, nan, nan, nan],\n",
       "       ['Tamaulipas', 11.3, 14.4, 16.3, 17.7, 23.7, 24.5, 23.8, nan, nan,\n",
       "        nan, nan, nan, nan],\n",
       "       ['Tlaxcala', 2.2, 4.8, 6.3, 7.7, 9.7, 11.2, 9.5, nan, nan, nan,\n",
       "        nan, nan, nan],\n",
       "       ['Veracruz', 13.6, 15.9, 16.1, 16.9, 20.7, 20.7, 19.4, nan, nan,\n",
       "        nan, nan, nan, nan],\n",
       "       ['Yucatán', 16.1, 18.8, 19.0, 20.7, 23.4, 23.9, 22.6, nan, nan,\n",
       "        nan, nan, nan, nan],\n",
       "       ['Zacatecas', 3.9, 6.2, 7.7, 8.0, 10.9, 14.7, 13.7, nan, nan, nan,\n",
       "        nan, nan, nan],\n",
       "       ['Nacional', 8.8, 10.6, 12.2, 13.7, 16.6, 19.3, 19.6, nan, nan,\n",
       "        nan, nan, nan, nan]], dtype=object)"
      ]
     },
     "execution_count": 3,
     "metadata": {},
     "output_type": "execute_result"
    }
   ],
   "source": [
    "ar=np.array(d)\n",
    "ar"
   ]
  },
  {
   "cell_type": "code",
   "execution_count": 4,
   "metadata": {},
   "outputs": [
    {
     "data": {
      "text/plain": [
       "array([['Aguascalientes', 4.8, 7.1, 8.7, 9.4, 12.6, 15.7, 14.2, nan, nan,\n",
       "        nan, nan, nan, nan],\n",
       "       ['Baja California', 8.0, 6.5, 9.0, 13.2, 14.3, 17.6, 18.5, nan,\n",
       "        nan, nan, nan, nan, nan],\n",
       "       ['Baja California Sur', 12.1, 12.1, 13.0, 15.3, 15.9, 19.9, 23.9,\n",
       "        nan, nan, nan, nan, nan, nan],\n",
       "       ['Campeche', 17.2, 20.0, 20.2, 21.8, 24.5, 24.0, 23.0, nan, nan,\n",
       "        nan, nan, nan, nan],\n",
       "       ['Coahuila', 6.4, 9.6, 12.1, 14.5, 19.8, 21.5, 21.7, nan, nan,\n",
       "        nan, nan, nan, nan],\n",
       "       ['Colima', 18.6, 18.0, 18.3, 17.5, 19.7, 23.5, 23.2, nan, nan,\n",
       "        nan, nan, nan, nan],\n",
       "       ['Chiapas', 16.4, 17.4, 18.2, 19.0, 21.1, 21.0, 20.4, nan, nan,\n",
       "        nan, nan, nan, nan],\n",
       "       ['Chihuahua', 1.8, 4.1, 6.9, 8.7, 12.0, 16.7, 18.3, nan, nan, nan,\n",
       "        nan, nan, nan],\n",
       "       ['Ciudad de México', 8.1, 10.6, 11.4, 12.9, 14.0, 14.2, 13.0, nan,\n",
       "        nan, nan, nan, nan, nan],\n",
       "       ['Durango', 2.6, 5.4, 7.1, 8.3, 10.1, 15.5, 15.3, nan, nan, nan,\n",
       "        nan, nan, nan],\n",
       "       ['Guanajuato', 6.4, 8.0, 10.3, 10.9, 13.9, 15.0, 13.6, nan, nan,\n",
       "        nan, nan, nan, nan],\n",
       "       ['Guerrero', 15.9, 16.7, 18.2, 18.1, 19.2, 20.0, 19.2, nan, nan,\n",
       "        nan, nan, nan, nan],\n",
       "       ['Hidalgo', 7.5, 10.2, 10.8, 12.3, 15.2, 15.4, 14.6, nan, nan,\n",
       "        nan, nan, nan, nan],\n",
       "       ['Jalisco', 7.9, 9.5, 10.9, 11.2, 14.2, 17.6, 16.5, nan, nan, nan,\n",
       "        nan, nan, nan],\n",
       "       ['Estado de México', 3.0, 4.7, 6.2, 7.1, 9.0, 10.6, 9.6, nan, nan,\n",
       "        nan, nan, nan, nan],\n",
       "       ['Michoacán', 8.1, 9.8, 11.3, 11.3, 14.0, 15.7, 14.7, nan, nan,\n",
       "        nan, nan, nan, nan],\n",
       "       ['Morelos', 10.1, 12.6, 15.4, 15.3, 16.8, 17.3, 16.1, nan, nan,\n",
       "        nan, nan, nan, nan],\n",
       "       ['Nayarit', 14.6, 15.2, 14.4, 15.8, 17.8, 22.8, 23.2, nan, nan,\n",
       "        nan, nan, nan, nan],\n",
       "       ['Nuevo León', 6.9, 10.3, 12.7, 14.0, 19.8, 21.2, 20.5, nan, nan,\n",
       "        nan, nan, nan, nan],\n",
       "       ['Oaxaca', 13.9, 16.8, 16.5, 17.4, 18.9, 19.6, 17.8, nan, nan,\n",
       "        nan, nan, nan, nan],\n",
       "       ['Puebla', 6.9, 9.5, 10.4, 11.5, 13.6, 13.7, 12.4, nan, nan, nan,\n",
       "        nan, nan, nan],\n",
       "       ['Querétaro', 8.5, 10.3, 12.0, 13.6, 16.8, 16.5, 14.9, nan, nan,\n",
       "        nan, nan, nan, nan],\n",
       "       ['Quintana Roo', 18.3, 21.5, 21.2, 22.7, 25.3, 25.8, 25.4, nan,\n",
       "        nan, nan, nan, nan, nan],\n",
       "       ['San Luis Potosí', 11.9, 14.2, 15.3, 16.5, 22.1, 21.9, 20.7, nan,\n",
       "        nan, nan, nan, nan, nan],\n",
       "       ['Sinaloa', 11.6, 12.0, 12.8, 14.6, 16.7, 22.3, 24.4, nan, nan,\n",
       "        nan, nan, nan, nan],\n",
       "       ['Sonora', 6.0, 6.2, 9.2, 11.5, 12.9, 19.1, 23.3, nan, nan, nan,\n",
       "        nan, nan, nan],\n",
       "       ['Tabasco', 18.8, 20.7, 20.8, 22.1, 25.1, 24.6, 23.6, nan, nan,\n",
       "        nan, nan, nan, nan],\n",
       "       ['Tamaulipas', 11.3, 14.4, 16.3, 17.7, 23.7, 24.5, 23.8, nan, nan,\n",
       "        nan, nan, nan, nan],\n",
       "       ['Tlaxcala', 2.2, 4.8, 6.3, 7.7, 9.7, 11.2, 9.5, nan, nan, nan,\n",
       "        nan, nan, nan],\n",
       "       ['Veracruz', 13.6, 15.9, 16.1, 16.9, 20.7, 20.7, 19.4, nan, nan,\n",
       "        nan, nan, nan, nan],\n",
       "       ['Yucatán', 16.1, 18.8, 19.0, 20.7, 23.4, 23.9, 22.6, nan, nan,\n",
       "        nan, nan, nan, nan],\n",
       "       ['Zacatecas', 3.9, 6.2, 7.7, 8.0, 10.9, 14.7, 13.7, nan, nan, nan,\n",
       "        nan, nan, nan],\n",
       "       ['Nacional', 8.8, 10.6, 12.2, 13.7, 16.6, 19.3, 19.6, nan, nan,\n",
       "        nan, nan, nan, nan]], dtype=object)"
      ]
     },
     "execution_count": 4,
     "metadata": {},
     "output_type": "execute_result"
    }
   ],
   "source": [
    "ar=np.array(d,dtype='object')\n",
    "ar"
   ]
  },
  {
   "cell_type": "code",
   "execution_count": 43,
   "metadata": {},
   "outputs": [
    {
     "data": {
      "text/plain": [
       "array(['Aguascalientes', 4.8, 7.1, 8.7, 9.4, 12.6, 15.7, 14.2, nan, nan,\n",
       "       nan, nan, nan, nan], dtype=object)"
      ]
     },
     "execution_count": 43,
     "metadata": {},
     "output_type": "execute_result"
    }
   ],
   "source": [
    "ar[0,:]"
   ]
  },
  {
   "cell_type": "code",
   "execution_count": 29,
   "metadata": {},
   "outputs": [
    {
     "data": {
      "text/plain": [
       "array(['Aguascalientes', 'Baja California', 'Baja California Sur',\n",
       "       'Campeche', 'Coahuila', 'Colima', 'Chiapas', 'Chihuahua',\n",
       "       'Ciudad de México', 'Durango', 'Guanajuato', 'Guerrero', 'Hidalgo',\n",
       "       'Jalisco', 'Estado de México', 'Michoacán', 'Morelos', 'Nayarit',\n",
       "       'Nuevo León', 'Oaxaca', 'Puebla', 'Querétaro', 'Quintana Roo',\n",
       "       'San Luis Potosí', 'Sinaloa', 'Sonora', 'Tabasco', 'Tamaulipas',\n",
       "       'Tlaxcala', 'Veracruz', 'Yucatán', 'Zacatecas', 'Nacional'],\n",
       "      dtype=object)"
      ]
     },
     "execution_count": 29,
     "metadata": {},
     "output_type": "execute_result"
    }
   ],
   "source": [
    "ar[:,0]"
   ]
  },
  {
   "cell_type": "code",
   "execution_count": 39,
   "metadata": {},
   "outputs": [
    {
     "data": {
      "text/plain": [
       "array([['hola', 4.8, 7.1, 8.7, 9.4, 12.6, 15.7, 14.2, nan, nan, nan, nan,\n",
       "        nan, nan],\n",
       "       ['Baja California', 8.0, 6.5, 9.0, 13.2, 14.3, 17.6, 18.5, nan,\n",
       "        nan, nan, nan, nan, nan],\n",
       "       ['Baja California Sur', 12.1, 12.1, 13.0, 15.3, 15.9, 19.9, 23.9,\n",
       "        nan, nan, nan, nan, nan, nan],\n",
       "       ['Campeche', 17.2, 20.0, 20.2, 21.8, 24.5, 24.0, 23.0, nan, nan,\n",
       "        nan, nan, nan, nan],\n",
       "       ['Coahuila', 6.4, 9.6, 12.1, 14.5, 19.8, 21.5, 21.7, nan, nan,\n",
       "        nan, nan, nan, nan],\n",
       "       ['Colima', 18.6, 18.0, 18.3, 17.5, 19.7, 23.5, 23.2, nan, nan,\n",
       "        nan, nan, nan, nan],\n",
       "       ['Chiapas', 16.4, 17.4, 18.2, 19.0, 21.1, 21.0, 20.4, nan, nan,\n",
       "        nan, nan, nan, nan],\n",
       "       ['Chihuahua', 1.8, 4.1, 6.9, 8.7, 12.0, 16.7, 18.3, nan, nan, nan,\n",
       "        nan, nan, nan],\n",
       "       ['Ciudad de México', 8.1, 10.6, 11.4, 12.9, 14.0, 14.2, 13.0, nan,\n",
       "        nan, nan, nan, nan, nan],\n",
       "       ['Durango', 2.6, 5.4, 7.1, 8.3, 10.1, 15.5, 15.3, nan, nan, nan,\n",
       "        nan, nan, nan],\n",
       "       ['Guanajuato', 6.4, 8.0, 10.3, 10.9, 13.9, 15.0, 13.6, nan, nan,\n",
       "        nan, nan, nan, nan],\n",
       "       ['Guerrero', 15.9, 16.7, 18.2, 18.1, 19.2, 20.0, 19.2, nan, nan,\n",
       "        nan, nan, nan, nan],\n",
       "       ['Hidalgo', 7.5, 10.2, 10.8, 12.3, 15.2, 15.4, 14.6, nan, nan,\n",
       "        nan, nan, nan, nan],\n",
       "       ['Jalisco', 7.9, 9.5, 10.9, 11.2, 14.2, 17.6, 16.5, nan, nan, nan,\n",
       "        nan, nan, nan],\n",
       "       ['Estado de México', 3.0, 4.7, 6.2, 7.1, 9.0, 10.6, 9.6, nan, nan,\n",
       "        nan, nan, nan, nan],\n",
       "       ['Michoacán', 8.1, 9.8, 11.3, 11.3, 14.0, 15.7, 14.7, nan, nan,\n",
       "        nan, nan, nan, nan],\n",
       "       ['Morelos', 10.1, 12.6, 15.4, 15.3, 16.8, 17.3, 16.1, nan, nan,\n",
       "        nan, nan, nan, nan],\n",
       "       ['Nayarit', 14.6, 15.2, 14.4, 15.8, 17.8, 22.8, 23.2, nan, nan,\n",
       "        nan, nan, nan, nan],\n",
       "       ['Nuevo León', 6.9, 10.3, 12.7, 14.0, 19.8, 21.2, 20.5, nan, nan,\n",
       "        nan, nan, nan, nan],\n",
       "       ['Oaxaca', 13.9, 16.8, 16.5, 17.4, 18.9, 19.6, 17.8, nan, nan,\n",
       "        nan, nan, nan, nan],\n",
       "       ['Puebla', 6.9, 9.5, 10.4, 11.5, 13.6, 13.7, 12.4, nan, nan, nan,\n",
       "        nan, nan, nan],\n",
       "       ['Querétaro', 8.5, 10.3, 12.0, 13.6, 16.8, 16.5, 14.9, nan, nan,\n",
       "        nan, nan, nan, nan],\n",
       "       ['Quintana Roo', 18.3, 21.5, 21.2, 22.7, 25.3, 25.8, 25.4, nan,\n",
       "        nan, nan, nan, nan, nan],\n",
       "       ['San Luis Potosí', 11.9, 14.2, 15.3, 16.5, 22.1, 21.9, 20.7, nan,\n",
       "        nan, nan, nan, nan, nan],\n",
       "       ['Sinaloa', 11.6, 12.0, 12.8, 14.6, 16.7, 22.3, 24.4, nan, nan,\n",
       "        nan, nan, nan, nan],\n",
       "       ['Sonora', 6.0, 6.2, 9.2, 11.5, 12.9, 19.1, 23.3, nan, nan, nan,\n",
       "        nan, nan, nan],\n",
       "       ['Tabasco', 18.8, 20.7, 20.8, 22.1, 25.1, 24.6, 23.6, nan, nan,\n",
       "        nan, nan, nan, nan],\n",
       "       ['Tamaulipas', 11.3, 14.4, 16.3, 17.7, 23.7, 24.5, 23.8, nan, nan,\n",
       "        nan, nan, nan, nan],\n",
       "       ['Tlaxcala', 2.2, 4.8, 6.3, 7.7, 9.7, 11.2, 9.5, nan, nan, nan,\n",
       "        nan, nan, nan],\n",
       "       ['Veracruz', 13.6, 15.9, 16.1, 16.9, 20.7, 20.7, 19.4, nan, nan,\n",
       "        nan, nan, nan, nan],\n",
       "       ['Yucatán', 16.1, 18.8, 19.0, 20.7, 23.4, 23.9, 22.6, nan, nan,\n",
       "        nan, nan, nan, nan],\n",
       "       ['Zacatecas', 3.9, 6.2, 7.7, 8.0, 10.9, 14.7, 13.7, nan, nan, nan,\n",
       "        nan, nan, nan],\n",
       "       ['Nacional', 8.8, 10.6, 12.2, 13.7, 16.6, 19.3, 19.6, nan, nan,\n",
       "        nan, nan, nan, nan]], dtype=object)"
      ]
     },
     "execution_count": 39,
     "metadata": {},
     "output_type": "execute_result"
    }
   ],
   "source": [
    "arc=ar[:2,:2]#se modifica el real\n",
    "arc[0,0]='hola'\n",
    "ar"
   ]
  },
  {
   "cell_type": "code",
   "execution_count": 48,
   "metadata": {},
   "outputs": [
    {
     "data": {
      "text/plain": [
       "array([['Aguascalientes', 4.8, 7.1, 8.7, 9.4, 12.6, 15.7, 14.2, nan, nan,\n",
       "        nan, nan, nan, nan],\n",
       "       ['Baja California', 8.0, 6.5, 9.0, 13.2, 14.3, 17.6, 18.5, nan,\n",
       "        nan, nan, nan, nan, nan],\n",
       "       ['Baja California Sur', 12.1, 12.1, 13.0, 15.3, 15.9, 19.9, 23.9,\n",
       "        nan, nan, nan, nan, nan, nan],\n",
       "       ['Campeche', 17.2, 20.0, 20.2, 21.8, 24.5, 24.0, 23.0, nan, nan,\n",
       "        nan, nan, nan, nan],\n",
       "       ['Coahuila', 6.4, 9.6, 12.1, 14.5, 19.8, 21.5, 21.7, nan, nan,\n",
       "        nan, nan, nan, nan],\n",
       "       ['Colima', 18.6, 18.0, 18.3, 17.5, 19.7, 23.5, 23.2, nan, nan,\n",
       "        nan, nan, nan, nan],\n",
       "       ['Chiapas', 16.4, 17.4, 18.2, 19.0, 21.1, 21.0, 20.4, nan, nan,\n",
       "        nan, nan, nan, nan],\n",
       "       ['Chihuahua', 1.8, 4.1, 6.9, 8.7, 12.0, 16.7, 18.3, nan, nan, nan,\n",
       "        nan, nan, nan],\n",
       "       ['Ciudad de México', 8.1, 10.6, 11.4, 12.9, 14.0, 14.2, 13.0, nan,\n",
       "        nan, nan, nan, nan, nan],\n",
       "       ['Durango', 2.6, 5.4, 7.1, 8.3, 10.1, 15.5, 15.3, nan, nan, nan,\n",
       "        nan, nan, nan],\n",
       "       ['Guanajuato', 6.4, 8.0, 10.3, 10.9, 13.9, 15.0, 13.6, nan, nan,\n",
       "        nan, nan, nan, nan],\n",
       "       ['Guerrero', 15.9, 16.7, 18.2, 18.1, 19.2, 20.0, 19.2, nan, nan,\n",
       "        nan, nan, nan, nan],\n",
       "       ['Hidalgo', 7.5, 10.2, 10.8, 12.3, 15.2, 15.4, 14.6, nan, nan,\n",
       "        nan, nan, nan, nan],\n",
       "       ['Jalisco', 7.9, 9.5, 10.9, 11.2, 14.2, 17.6, 16.5, nan, nan, nan,\n",
       "        nan, nan, nan],\n",
       "       ['Estado de México', 3.0, 4.7, 6.2, 7.1, 9.0, 10.6, 9.6, nan, nan,\n",
       "        nan, nan, nan, nan],\n",
       "       ['Michoacán', 8.1, 9.8, 11.3, 11.3, 14.0, 15.7, 14.7, nan, nan,\n",
       "        nan, nan, nan, nan],\n",
       "       ['Morelos', 10.1, 12.6, 15.4, 15.3, 16.8, 17.3, 16.1, nan, nan,\n",
       "        nan, nan, nan, nan],\n",
       "       ['Nayarit', 14.6, 15.2, 14.4, 15.8, 17.8, 22.8, 23.2, nan, nan,\n",
       "        nan, nan, nan, nan],\n",
       "       ['Nuevo León', 6.9, 10.3, 12.7, 14.0, 19.8, 21.2, 20.5, nan, nan,\n",
       "        nan, nan, nan, nan],\n",
       "       ['Oaxaca', 13.9, 16.8, 16.5, 17.4, 18.9, 19.6, 17.8, nan, nan,\n",
       "        nan, nan, nan, nan],\n",
       "       ['Puebla', 6.9, 9.5, 10.4, 11.5, 13.6, 13.7, 12.4, nan, nan, nan,\n",
       "        nan, nan, nan],\n",
       "       ['Querétaro', 8.5, 10.3, 12.0, 13.6, 16.8, 16.5, 14.9, nan, nan,\n",
       "        nan, nan, nan, nan],\n",
       "       ['Quintana Roo', 18.3, 21.5, 21.2, 22.7, 25.3, 25.8, 25.4, nan,\n",
       "        nan, nan, nan, nan, nan],\n",
       "       ['San Luis Potosí', 11.9, 14.2, 15.3, 16.5, 22.1, 21.9, 20.7, nan,\n",
       "        nan, nan, nan, nan, nan],\n",
       "       ['Sinaloa', 11.6, 12.0, 12.8, 14.6, 16.7, 22.3, 24.4, nan, nan,\n",
       "        nan, nan, nan, nan],\n",
       "       ['Sonora', 6.0, 6.2, 9.2, 11.5, 12.9, 19.1, 23.3, nan, nan, nan,\n",
       "        nan, nan, nan],\n",
       "       ['Tabasco', 18.8, 20.7, 20.8, 22.1, 25.1, 24.6, 23.6, nan, nan,\n",
       "        nan, nan, nan, nan],\n",
       "       ['Tamaulipas', 11.3, 14.4, 16.3, 17.7, 23.7, 24.5, 23.8, nan, nan,\n",
       "        nan, nan, nan, nan],\n",
       "       ['Tlaxcala', 2.2, 4.8, 6.3, 7.7, 9.7, 11.2, 9.5, nan, nan, nan,\n",
       "        nan, nan, nan],\n",
       "       ['Veracruz', 13.6, 15.9, 16.1, 16.9, 20.7, 20.7, 19.4, nan, nan,\n",
       "        nan, nan, nan, nan],\n",
       "       ['Yucatán', 16.1, 18.8, 19.0, 20.7, 23.4, 23.9, 22.6, nan, nan,\n",
       "        nan, nan, nan, nan],\n",
       "       ['Zacatecas', 3.9, 6.2, 7.7, 8.0, 10.9, 14.7, 13.7, nan, nan, nan,\n",
       "        nan, nan, nan],\n",
       "       ['Nacional', 8.8, 10.6, 12.2, 13.7, 16.6, 19.3, 19.6, nan, nan,\n",
       "        nan, nan, nan, nan]], dtype=object)"
      ]
     },
     "execution_count": 48,
     "metadata": {},
     "output_type": "execute_result"
    }
   ],
   "source": [
    "arc=ar[:2,:2].copy()#aqui no se modifica\n",
    "arc[0,0]='hola'\n",
    "ar"
   ]
  },
  {
   "cell_type": "code",
   "execution_count": 52,
   "metadata": {},
   "outputs": [
    {
     "data": {
      "text/plain": [
       "array([['Aguascalientes', 4.8, 7.1, 8.7, 9.4, 12.6, 15.7, 14.2, nan, nan,\n",
       "        nan, nan, nan, nan, 'Baja California', 8.0, 6.5, 9.0, 13.2, 14.3,\n",
       "        17.6, 18.5, nan, nan, nan, nan, nan, nan, 'Baja California Sur',\n",
       "        12.1, 12.1, 13.0, 15.3, 15.9, 19.9, 23.9, nan, nan, nan, nan,\n",
       "        nan, nan, 'Campeche', 17.2, 20.0, 20.2, 21.8, 24.5, 24.0, 23.0,\n",
       "        nan, nan, nan, nan, nan, nan, 'Coahuila', 6.4, 9.6, 12.1, 14.5,\n",
       "        19.8, 21.5, 21.7, nan, nan, nan, nan, nan, nan, 'Colima', 18.6,\n",
       "        18.0, 18.3, 17.5, 19.7, 23.5, 23.2, nan, nan, nan, nan, nan, nan,\n",
       "        'Chiapas', 16.4, 17.4, 18.2, 19.0, 21.1, 21.0, 20.4, nan, nan,\n",
       "        nan, nan, nan, nan, 'Chihuahua', 1.8, 4.1, 6.9, 8.7, 12.0, 16.7,\n",
       "        18.3, nan, nan, nan, nan, nan, nan, 'Ciudad de México', 8.1,\n",
       "        10.6, 11.4, 12.9, 14.0, 14.2, 13.0, nan, nan, nan, nan, nan, nan,\n",
       "        'Durango', 2.6, 5.4, 7.1, 8.3, 10.1, 15.5, 15.3, nan, nan, nan,\n",
       "        nan, nan, nan, 'Guanajuato', 6.4, 8.0, 10.3, 10.9, 13.9, 15.0,\n",
       "        13.6, nan, nan, nan, nan, nan, nan, 'Guerrero', 15.9, 16.7, 18.2,\n",
       "        18.1, 19.2, 20.0, 19.2, nan, nan, nan, nan, nan, nan, 'Hidalgo',\n",
       "        7.5, 10.2, 10.8, 12.3, 15.2, 15.4, 14.6, nan, nan, nan, nan, nan,\n",
       "        nan, 'Jalisco', 7.9, 9.5, 10.9, 11.2, 14.2, 17.6, 16.5, nan, nan,\n",
       "        nan, nan, nan, nan, 'Estado de México', 3.0, 4.7, 6.2, 7.1, 9.0,\n",
       "        10.6, 9.6, nan, nan, nan, nan, nan, nan, 'Michoacán', 8.1, 9.8,\n",
       "        11.3, 11.3, 14.0, 15.7, 14.7, nan, nan, nan, nan, nan, nan,\n",
       "        'Morelos', 10.1, 12.6, 15.4, 15.3, 16.8, 17.3, 16.1, nan, nan,\n",
       "        nan, nan, nan, nan, 'Nayarit', 14.6, 15.2, 14.4, 15.8, 17.8,\n",
       "        22.8, 23.2, nan, nan, nan, nan, nan, nan, 'Nuevo León', 6.9,\n",
       "        10.3, 12.7, 14.0, 19.8, 21.2, 20.5, nan, nan, nan, nan, nan, nan,\n",
       "        'Oaxaca', 13.9, 16.8, 16.5, 17.4, 18.9, 19.6, 17.8, nan, nan,\n",
       "        nan, nan, nan, nan, 'Puebla', 6.9, 9.5, 10.4, 11.5, 13.6, 13.7,\n",
       "        12.4, nan, nan, nan, nan, nan, nan, 'Querétaro', 8.5, 10.3, 12.0,\n",
       "        13.6, 16.8, 16.5, 14.9, nan, nan, nan, nan, nan, nan,\n",
       "        'Quintana Roo', 18.3, 21.5, 21.2, 22.7, 25.3, 25.8, 25.4, nan,\n",
       "        nan, nan, nan, nan, nan, 'San Luis Potosí', 11.9, 14.2, 15.3,\n",
       "        16.5, 22.1, 21.9, 20.7, nan, nan, nan, nan, nan, nan, 'Sinaloa',\n",
       "        11.6, 12.0, 12.8, 14.6, 16.7, 22.3, 24.4, nan, nan, nan, nan,\n",
       "        nan, nan, 'Sonora', 6.0, 6.2, 9.2, 11.5, 12.9, 19.1, 23.3, nan,\n",
       "        nan, nan, nan, nan, nan, 'Tabasco', 18.8, 20.7, 20.8, 22.1, 25.1,\n",
       "        24.6, 23.6, nan, nan, nan, nan, nan, nan, 'Tamaulipas', 11.3,\n",
       "        14.4, 16.3, 17.7, 23.7, 24.5, 23.8, nan, nan, nan, nan, nan, nan,\n",
       "        'Tlaxcala', 2.2, 4.8, 6.3, 7.7, 9.7, 11.2, 9.5, nan, nan, nan,\n",
       "        nan, nan, nan, 'Veracruz', 13.6, 15.9, 16.1, 16.9, 20.7, 20.7,\n",
       "        19.4, nan, nan, nan, nan, nan, nan, 'Yucatán', 16.1, 18.8, 19.0,\n",
       "        20.7, 23.4, 23.9, 22.6, nan, nan, nan, nan, nan, nan,\n",
       "        'Zacatecas', 3.9, 6.2, 7.7, 8.0, 10.9, 14.7, 13.7, nan, nan, nan,\n",
       "        nan, nan, nan, 'Nacional', 8.8, 10.6, 12.2, 13.7, 16.6, 19.3,\n",
       "        19.6, nan, nan, nan, nan, nan, nan]], dtype=object)"
      ]
     },
     "execution_count": 52,
     "metadata": {},
     "output_type": "execute_result"
    }
   ],
   "source": [
    "arc=ar.reshape(1,462)\n",
    "arc"
   ]
  },
  {
   "cell_type": "markdown",
   "metadata": {},
   "source": [
    "# Experimentos de newaxis"
   ]
  },
  {
   "cell_type": "code",
   "execution_count": 57,
   "metadata": {},
   "outputs": [
    {
     "data": {
      "text/plain": [
       "array([[8.0, 6.5, 9.0],\n",
       "       [12.1, 12.1, 13.0],\n",
       "       [17.2, 20.0, 20.2]], dtype=object)"
      ]
     },
     "execution_count": 57,
     "metadata": {},
     "output_type": "execute_result"
    }
   ],
   "source": [
    "arc=ar[1:4,1:4].copy()\n",
    "arc"
   ]
  },
  {
   "cell_type": "code",
   "execution_count": 85,
   "metadata": {},
   "outputs": [
    {
     "data": {
      "text/plain": [
       "array([[[8.0, 6.5, 9.0]],\n",
       "\n",
       "       [[12.1, 12.1, 13.0]],\n",
       "\n",
       "       [[17.2, 20.0, 20.2]]], dtype=object)"
      ]
     },
     "execution_count": 85,
     "metadata": {},
     "output_type": "execute_result"
    }
   ],
   "source": [
    "arc[:,np.newaxis]"
   ]
  },
  {
   "cell_type": "code",
   "execution_count": 92,
   "metadata": {},
   "outputs": [
    {
     "data": {
      "text/plain": [
       "6.5"
      ]
     },
     "execution_count": 92,
     "metadata": {},
     "output_type": "execute_result"
    }
   ],
   "source": [
    "arcc=arc[:,np.newaxis].copy()\n",
    "arcc[0,0,1]"
   ]
  },
  {
   "cell_type": "code",
   "execution_count": 86,
   "metadata": {},
   "outputs": [
    {
     "data": {
      "text/plain": [
       "array([[[8.0, 6.5, 9.0],\n",
       "        [12.1, 12.1, 13.0],\n",
       "        [17.2, 20.0, 20.2]]], dtype=object)"
      ]
     },
     "execution_count": 86,
     "metadata": {},
     "output_type": "execute_result"
    }
   ],
   "source": [
    "arc[np.newaxis,:]"
   ]
  },
  {
   "cell_type": "code",
   "execution_count": 95,
   "metadata": {},
   "outputs": [
    {
     "data": {
      "text/plain": [
       "13.0"
      ]
     },
     "execution_count": 95,
     "metadata": {},
     "output_type": "execute_result"
    }
   ],
   "source": [
    "arcc=arc[np.newaxis,:].copy()\n",
    "arcc[0,1,2]"
   ]
  },
  {
   "cell_type": "code",
   "execution_count": 96,
   "metadata": {},
   "outputs": [
    {
     "data": {
      "text/plain": [
       "12.1"
      ]
     },
     "execution_count": 96,
     "metadata": {},
     "output_type": "execute_result"
    }
   ],
   "source": [
    "arc[1,0]"
   ]
  },
  {
   "cell_type": "code",
   "execution_count": 9,
   "metadata": {},
   "outputs": [
    {
     "name": "stdout",
     "output_type": "stream",
     "text": [
      "14.1 µs ± 89.8 ns per loop (mean ± std. dev. of 7 runs, 100000 loops each)\n"
     ]
    }
   ],
   "source": [
    "%%timeit\n",
    "np.random.seed(0)\n",
    "\n",
    "def compute_reciprocals(values):\n",
    "    output = np.empty(len(values))\n",
    "    for i in range(len(values)):\n",
    "        output[i] = 1.0 / values[i]\n",
    "    return output\n",
    "        \n",
    "values = np.random.randint(1, 10, size=5)\n",
    "compute_reciprocals(values)"
   ]
  },
  {
   "cell_type": "code",
   "execution_count": 11,
   "metadata": {},
   "outputs": [
    {
     "data": {
      "text/plain": [
       "array([0.        , 0.5       , 0.66666667, 0.75      , 0.8       ])"
      ]
     },
     "execution_count": 11,
     "metadata": {},
     "output_type": "execute_result"
    }
   ],
   "source": [
    "np.arange(5) / np.arange(1, 6)"
   ]
  },
  {
   "cell_type": "code",
   "execution_count": 15,
   "metadata": {},
   "outputs": [
    {
     "data": {
      "text/plain": [
       "array([0.        , 1.57079633, 3.14159265])"
      ]
     },
     "execution_count": 15,
     "metadata": {},
     "output_type": "execute_result"
    }
   ],
   "source": [
    "theta=np.linspace(0,np.pi,3)\n",
    "theta"
   ]
  },
  {
   "cell_type": "code",
   "execution_count": 18,
   "metadata": {},
   "outputs": [
    {
     "data": {
      "text/plain": [
       "array([[0.19658236, 0.36872517, 0.82099323],\n",
       "       [0.09710128, 0.83794491, 0.09609841],\n",
       "       [0.97645947, 0.4686512 , 0.97676109],\n",
       "       [0.60484552, 0.73926358, 0.03918779],\n",
       "       [0.28280696, 0.12019656, 0.2961402 ],\n",
       "       [0.11872772, 0.31798318, 0.41426299],\n",
       "       [0.0641475 , 0.69247212, 0.56660145],\n",
       "       [0.26538949, 0.52324805, 0.09394051],\n",
       "       [0.5759465 , 0.9292962 , 0.31856895],\n",
       "       [0.66741038, 0.13179786, 0.7163272 ]])"
      ]
     },
     "execution_count": 18,
     "metadata": {},
     "output_type": "execute_result"
    }
   ],
   "source": [
    "X = np.random.random((10, 3))\n",
    "X"
   ]
  },
  {
   "cell_type": "code",
   "execution_count": 24,
   "metadata": {},
   "outputs": [
    {
     "data": {
      "text/plain": [
       "array([0.38494172, 0.51295788, 0.43388818])"
      ]
     },
     "execution_count": 24,
     "metadata": {},
     "output_type": "execute_result"
    }
   ],
   "source": [
    "Xmean = X.mean(0)\n",
    "Xmean"
   ]
  },
  {
   "cell_type": "code",
   "execution_count": 26,
   "metadata": {},
   "outputs": [
    {
     "data": {
      "text/plain": [
       "array([ 5.55111512e-17,  1.44328993e-16, -3.88578059e-17])"
      ]
     },
     "execution_count": 26,
     "metadata": {},
     "output_type": "execute_result"
    }
   ],
   "source": [
    "X_centered = X - Xmean\n",
    "X_centered.mean(0)"
   ]
  },
  {
   "cell_type": "code",
   "execution_count": 28,
   "metadata": {},
   "outputs": [],
   "source": [
    "x = np.linspace(0, 5, 50)\n",
    "y = np.linspace(0, 5, 50)[:, np.newaxis]\n",
    "\n",
    "z = np.sin(x) ** 10 + np.cos(10 + y * x) * np.cos(x)"
   ]
  },
  {
   "cell_type": "code",
   "execution_count": 33,
   "metadata": {},
   "outputs": [
    {
     "data": {
      "image/png": "[encoded data removed]",
      "text/plain": [
       "<Figure size 432x288 with 2 Axes>"
      ]
     },
     "metadata": {
      "needs_background": "light"
     },
     "output_type": "display_data"
    }
   ],
   "source": [
    "import matplotlib.pyplot as plt\n",
    "plt.imshow(z, origin='lower', extent=[0, 5, 0, 5],cmap='viridis')\n",
    "plt.colorbar();"
   ]
  },
  {
   "cell_type": "code",
   "execution_count": 36,
   "metadata": {},
   "outputs": [
    {
     "data": {
      "text/plain": [
       "<bound method NDFrame.keys of                 Entidad   Ene   Feb   Mar   Abr   May   Jun   Jul  Ago  Sep  \\\n",
       "0        Aguascalientes   4.8   7.1   8.7   9.4  12.6  15.7  14.2  NaN  NaN   \n",
       "1       Baja California   8.0   6.5   9.0  13.2  14.3  17.6  18.5  NaN  NaN   \n",
       "2   Baja California Sur  12.1  12.1  13.0  15.3  15.9  19.9  23.9  NaN  NaN   \n",
       "3              Campeche  17.2  20.0  20.2  21.8  24.5  24.0  23.0  NaN  NaN   \n",
       "4              Coahuila   6.4   9.6  12.1  14.5  19.8  21.5  21.7  NaN  NaN   \n",
       "5                Colima  18.6  18.0  18.3  17.5  19.7  23.5  23.2  NaN  NaN   \n",
       "6               Chiapas  16.4  17.4  18.2  19.0  21.1  21.0  20.4  NaN  NaN   \n",
       "7             Chihuahua   1.8   4.1   6.9   8.7  12.0  16.7  18.3  NaN  NaN   \n",
       "8      Ciudad de México   8.1  10.6  11.4  12.9  14.0  14.2  13.0  NaN  NaN   \n",
       "9               Durango   2.6   5.4   7.1   8.3  10.1  15.5  15.3  NaN  NaN   \n",
       "10           Guanajuato   6.4   8.0  10.3  10.9  13.9  15.0  13.6  NaN  NaN   \n",
       "11             Guerrero  15.9  16.7  18.2  18.1  19.2  20.0  19.2  NaN  NaN   \n",
       "12              Hidalgo   7.5  10.2  10.8  12.3  15.2  15.4  14.6  NaN  NaN   \n",
       "13              Jalisco   7.9   9.5  10.9  11.2  14.2  17.6  16.5  NaN  NaN   \n",
       "14     Estado de México   3.0   4.7   6.2   7.1   9.0  10.6   9.6  NaN  NaN   \n",
       "15            Michoacán   8.1   9.8  11.3  11.3  14.0  15.7  14.7  NaN  NaN   \n",
       "16              Morelos  10.1  12.6  15.4  15.3  16.8  17.3  16.1  NaN  NaN   \n",
       "17              Nayarit  14.6  15.2  14.4  15.8  17.8  22.8  23.2  NaN  NaN   \n",
       "18           Nuevo León   6.9  10.3  12.7  14.0  19.8  21.2  20.5  NaN  NaN   \n",
       "19               Oaxaca  13.9  16.8  16.5  17.4  18.9  19.6  17.8  NaN  NaN   \n",
       "20               Puebla   6.9   9.5  10.4  11.5  13.6  13.7  12.4  NaN  NaN   \n",
       "21            Querétaro   8.5  10.3  12.0  13.6  16.8  16.5  14.9  NaN  NaN   \n",
       "22         Quintana Roo  18.3  21.5  21.2  22.7  25.3  25.8  25.4  NaN  NaN   \n",
       "23      San Luis Potosí  11.9  14.2  15.3  16.5  22.1  21.9  20.7  NaN  NaN   \n",
       "24              Sinaloa  11.6  12.0  12.8  14.6  16.7  22.3  24.4  NaN  NaN   \n",
       "25               Sonora   6.0   6.2   9.2  11.5  12.9  19.1  23.3  NaN  NaN   \n",
       "26              Tabasco  18.8  20.7  20.8  22.1  25.1  24.6  23.6  NaN  NaN   \n",
       "27           Tamaulipas  11.3  14.4  16.3  17.7  23.7  24.5  23.8  NaN  NaN   \n",
       "28             Tlaxcala   2.2   4.8   6.3   7.7   9.7  11.2   9.5  NaN  NaN   \n",
       "29             Veracruz  13.6  15.9  16.1  16.9  20.7  20.7  19.4  NaN  NaN   \n",
       "30              Yucatán  16.1  18.8  19.0  20.7  23.4  23.9  22.6  NaN  NaN   \n",
       "31            Zacatecas   3.9   6.2   7.7   8.0  10.9  14.7  13.7  NaN  NaN   \n",
       "32             Nacional   8.8  10.6  12.2  13.7  16.6  19.3  19.6  NaN  NaN   \n",
       "\n",
       "    Oct  Nov  Dic  Anual  \n",
       "0   NaN  NaN  NaN    NaN  \n",
       "1   NaN  NaN  NaN    NaN  \n",
       "2   NaN  NaN  NaN    NaN  \n",
       "3   NaN  NaN  NaN    NaN  \n",
       "4   NaN  NaN  NaN    NaN  \n",
       "5   NaN  NaN  NaN    NaN  \n",
       "6   NaN  NaN  NaN    NaN  \n",
       "7   NaN  NaN  NaN    NaN  \n",
       "8   NaN  NaN  NaN    NaN  \n",
       "9   NaN  NaN  NaN    NaN  \n",
       "10  NaN  NaN  NaN    NaN  \n",
       "11  NaN  NaN  NaN    NaN  \n",
       "12  NaN  NaN  NaN    NaN  \n",
       "13  NaN  NaN  NaN    NaN  \n",
       "14  NaN  NaN  NaN    NaN  \n",
       "15  NaN  NaN  NaN    NaN  \n",
       "16  NaN  NaN  NaN    NaN  \n",
       "17  NaN  NaN  NaN    NaN  \n",
       "18  NaN  NaN  NaN    NaN  \n",
       "19  NaN  NaN  NaN    NaN  \n",
       "20  NaN  NaN  NaN    NaN  \n",
       "21  NaN  NaN  NaN    NaN  \n",
       "22  NaN  NaN  NaN    NaN  \n",
       "23  NaN  NaN  NaN    NaN  \n",
       "24  NaN  NaN  NaN    NaN  \n",
       "25  NaN  NaN  NaN    NaN  \n",
       "26  NaN  NaN  NaN    NaN  \n",
       "27  NaN  NaN  NaN    NaN  \n",
       "28  NaN  NaN  NaN    NaN  \n",
       "29  NaN  NaN  NaN    NaN  \n",
       "30  NaN  NaN  NaN    NaN  \n",
       "31  NaN  NaN  NaN    NaN  \n",
       "32  NaN  NaN  NaN    NaN  >"
      ]
     },
     "execution_count": 36,
     "metadata": {},
     "output_type": "execute_result"
    }
   ],
   "source": [
    "d.keys"
   ]
  },
  {
   "cell_type": "code",
   "execution_count": 30,
   "metadata": {},
   "outputs": [
    {
     "data": {
      "text/plain": [
       "(33,)"
      ]
     },
     "execution_count": 30,
     "metadata": {},
     "output_type": "execute_result"
    }
   ],
   "source": [
    "ar=np.array(d['Ene'].values,dtype='float32')\n",
    "ar.shape"
   ]
  },
  {
   "cell_type": "code",
   "execution_count": 7,
   "metadata": {},
   "outputs": [],
   "source": [
    "import matplotlib.pyplot as plt\n",
    "import seaborn; seaborn.set()"
   ]
  },
  {
   "cell_type": "code",
   "execution_count": 12,
   "metadata": {},
   "outputs": [
    {
     "data": {
      "image/png": "[encoded data removed]",
      "text/plain": [
       "<Figure size 432x288 with 1 Axes>"
      ]
     },
     "metadata": {},
     "output_type": "display_data"
    }
   ],
   "source": [
    "plt.hist(ar,50);"
   ]
  },
  {
   "cell_type": "code",
   "execution_count": 16,
   "metadata": {},
   "outputs": [
    {
     "data": {
      "text/plain": [
       "array([0, 1, 2, 3, 4, 5, 6, 7, 8, 9])"
      ]
     },
     "execution_count": 16,
     "metadata": {},
     "output_type": "execute_result"
    }
   ],
   "source": [
    "x=np.array(range(0,10))\n",
    "x"
   ]
  },
  {
   "cell_type": "code",
   "execution_count": 18,
   "metadata": {},
   "outputs": [
    {
     "data": {
      "text/plain": [
       "array([ True,  True,  True, False, False, False, False, False, False,\n",
       "       False])"
      ]
     },
     "execution_count": 18,
     "metadata": {},
     "output_type": "execute_result"
    }
   ],
   "source": [
    "x<3"
   ]
  },
  {
   "cell_type": "code",
   "execution_count": 21,
   "metadata": {},
   "outputs": [
    {
     "data": {
      "text/plain": [
       "6"
      ]
     },
     "execution_count": 21,
     "metadata": {},
     "output_type": "execute_result"
    }
   ],
   "source": [
    "np.count_nonzero(x<6)"
   ]
  },
  {
   "cell_type": "code",
   "execution_count": 32,
   "metadata": {},
   "outputs": [
    {
     "data": {
      "text/plain": [
       "8"
      ]
     },
     "execution_count": 32,
     "metadata": {},
     "output_type": "execute_result"
    }
   ],
   "source": [
    "np.sum((ar>10)&(ar<15))"
   ]
  },
  {
   "cell_type": "code",
   "execution_count": 34,
   "metadata": {},
   "outputs": [
    {
     "data": {
      "text/plain": [
       "8"
      ]
     },
     "execution_count": 34,
     "metadata": {},
     "output_type": "execute_result"
    }
   ],
   "source": [
    "np.sum(~((ar<10)|(ar>15)))"
   ]
  },
  {
   "cell_type": "code",
   "execution_count": 37,
   "metadata": {},
   "outputs": [
    {
     "data": {
      "text/plain": [
       "array([[ 0,  1,  2,  3],\n",
       "       [ 4,  5,  6,  7],\n",
       "       [ 8,  9, 10, 11]])"
      ]
     },
     "execution_count": 37,
     "metadata": {},
     "output_type": "execute_result"
    }
   ],
   "source": [
    "x=np.arange(12).reshape((3,4))\n",
    "x"
   ]
  },
  {
   "cell_type": "code",
   "execution_count": 48,
   "metadata": {},
   "outputs": [
    {
     "data": {
      "text/plain": [
       "(100, 2)"
      ]
     },
     "execution_count": 48,
     "metadata": {},
     "output_type": "execute_result"
    }
   ],
   "source": [
    "rand=np.random.RandomState(42)\n",
    "mean=[0,0]\n",
    "cov=[[1,2],[2,5]]\n",
    "x=rand.multivariate_normal(mean,cov,100)\n",
    "x.shape"
   ]
  },
  {
   "cell_type": "code",
   "execution_count": 50,
   "metadata": {},
   "outputs": [
    {
     "data": {
      "image/png": "[encoded data removed]",
      "text/plain": [
       "<Figure size 432x288 with 1 Axes>"
      ]
     },
     "metadata": {},
     "output_type": "display_data"
    }
   ],
   "source": [
    "plt.scatter(x[:,0],x[:,1]);"
   ]
  },
  {
   "cell_type": "code",
   "execution_count": 53,
   "metadata": {},
   "outputs": [
    {
     "data": {
      "text/plain": [
       "array([49, 56, 78, 28, 58,  9, 45, 30, 40, 82,  6, 25, 33, 19,  8, 63,  7,\n",
       "       79, 60, 97])"
      ]
     },
     "execution_count": 53,
     "metadata": {},
     "output_type": "execute_result"
    }
   ],
   "source": [
    "indices=np.random.choice(x.shape[0],20,replace=False)\n",
    "indices"
   ]
  },
  {
   "cell_type": "code",
   "execution_count": 54,
   "metadata": {},
   "outputs": [
    {
     "data": {
      "text/plain": [
       "\u001b[1;31mDocstring:\u001b[0m\n",
       "choice(a, size=None, replace=True, p=None)\n",
       "\n",
       "Generates a random sample from a given 1-D array\n",
       "\n",
       "        .. versionadded:: 1.7.0\n",
       "\n",
       "Parameters\n",
       "-----------\n",
       "a : 1-D array-like or int\n",
       "    If an ndarray, a random sample is generated from its elements.\n",
       "    If an int, the random sample is generated as if a were np.arange(a)\n",
       "size : int or tuple of ints, optional\n",
       "    Output shape.  If the given shape is, e.g., ``(m, n, k)``, then\n",
       "    ``m * n * k`` samples are drawn.  Default is None, in which case a\n",
       "    single value is returned.\n",
       "replace : boolean, optional\n",
       "    Whether the sample is with or without replacement\n",
       "p : 1-D array-like, optional\n",
       "    The probabilities associated with each entry in a.\n",
       "    If not given the sample assumes a uniform distribution over all\n",
       "    entries in a.\n",
       "\n",
       "Returns\n",
       "--------\n",
       "samples : single item or ndarray\n",
       "    The generated random samples\n",
       "\n",
       "Raises\n",
       "-------\n",
       "ValueError\n",
       "    If a is an int and less than zero, if a or p are not 1-dimensional,\n",
       "    if a is an array-like of size 0, if p is not a vector of\n",
       "    probabilities, if a and p have different lengths, or if\n",
       "    replace=False and the sample size is greater than the population\n",
       "    size\n",
       "\n",
       "See Also\n",
       "---------\n",
       "randint, shuffle, permutation\n",
       "\n",
       "Examples\n",
       "---------\n",
       "Generate a uniform random sample from np.arange(5) of size 3:\n",
       "\n",
       ">>> np.random.choice(5, 3)\n",
       "array([0, 3, 4])\n",
       ">>> #This is equivalent to np.random.randint(0,5,3)\n",
       "\n",
       "Generate a non-uniform random sample from np.arange(5) of size 3:\n",
       "\n",
       ">>> np.random.choice(5, 3, p=[0.1, 0, 0.3, 0.6, 0])\n",
       "array([3, 3, 0])\n",
       "\n",
       "Generate a uniform random sample from np.arange(5) of size 3 without\n",
       "replacement:\n",
       "\n",
       ">>> np.random.choice(5, 3, replace=False)\n",
       "array([3,1,0])\n",
       ">>> #This is equivalent to np.random.permutation(np.arange(5))[:3]\n",
       "\n",
       "Generate a non-uniform random sample from np.arange(5) of size\n",
       "3 without replacement:\n",
       "\n",
       ">>> np.random.choice(5, 3, replace=False, p=[0.1, 0, 0.3, 0.6, 0])\n",
       "array([2, 3, 0])\n",
       "\n",
       "Any of the above can be repeated with an arbitrary array-like\n",
       "instead of just integers. For instance:\n",
       "\n",
       ">>> aa_milne_arr = ['pooh', 'rabbit', 'piglet', 'Christopher']\n",
       ">>> np.random.choice(aa_milne_arr, 5, p=[0.5, 0.1, 0.1, 0.3])\n",
       "array(['pooh', 'pooh', 'pooh', 'Christopher', 'piglet'],\n",
       "      dtype='|S11')\n",
       "\u001b[1;31mType:\u001b[0m      builtin_function_or_method\n"
      ]
     },
     "metadata": {},
     "output_type": "display_data"
    }
   ],
   "source": [
    "np.random.choice?"
   ]
  }
 ],
 "metadata": {
  "kernelspec": {
   "display_name": "Python 3",
   "language": "python",
   "name": "python3"
  },
  "language_info": {
   "codemirror_mode": {
    "name": "ipython",
    "version": 3
   },
   "file_extension": ".py",
   "mimetype": "text/x-python",
   "name": "python",
   "nbconvert_exporter": "python",
   "pygments_lexer": "ipython3",
   "version": "3.7.1"
  }
 },
 "nbformat": 4,
 "nbformat_minor": 2
}
